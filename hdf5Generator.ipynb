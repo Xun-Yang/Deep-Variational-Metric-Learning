{
 "cells": [
  {
   "cell_type": "code",
   "execution_count": 12,
   "metadata": {},
   "outputs": [],
   "source": [
    "import os\n",
    "import numpy as np\n",
    "from scipy.io import loadmat\n",
    "import h5py\n",
    "from tqdm import tqdm\n",
    "import cv2\n",
    "from fuel.datasets.hdf5 import H5PYDataset"
   ]
  },
  {
   "cell_type": "code",
   "execution_count": 13,
   "metadata": {},
   "outputs": [],
   "source": [
    "def preprocess(hwc_bgr_image, size):\n",
    "    hwc_rgb_image = cv2.cvtColor(hwc_bgr_image, cv2.COLOR_BGR2RGB)\n",
    "    resized = cv2.resize(hwc_rgb_image, (size))\n",
    "    chw_image = np.transpose(resized, axes=(2, 0, 1))\n",
    "    return chw_image"
   ]
  },
  {
   "cell_type": "code",
   "execution_count": 14,
   "metadata": {},
   "outputs": [],
   "source": [
    "def assembleData(imagefolderpath,labelpath):\n",
    "    \n",
    "    # extract filenames of images\n",
    "    filenames = (os.listdir(imagefolderpath))\n",
    "    filenames.sort()\n",
    "    \n",
    "    # extract annotations and sort them\n",
    "    mat = loadmat(labelpath)\n",
    "    annotations = mat[\"annotations\"].ravel()\n",
    "    annotations = sorted(annotations, key=lambda a: str(a[5][0]))\n",
    "    \n",
    "    labels = []\n",
    "    for annotation in annotations:\n",
    "        label = int(annotation[4])\n",
    "        labels.append(label)\n",
    "        \n",
    "    return filenames,labels"
   ]
  },
  {
   "cell_type": "code",
   "execution_count": 15,
   "metadata": {},
   "outputs": [],
   "source": [
    "def hdf5Generator(path,filenames,labels,hdf5filepath,split):\n",
    "    num = len(filenames)\n",
    "    hdf5 = h5py.File(hdf5filepath, mode=\"w\")\n",
    "    \n",
    "    # creating dataset for images\n",
    "    image_size = (256, 256)\n",
    "    array_shape = (num, 3) + image_size\n",
    "    ds_images = hdf5.create_dataset(\"images\", array_shape, dtype=np.uint8)\n",
    "    ds_images.dims.label = (\"batch\",\"channel\",\"height\",\"width\")\n",
    "#     ds_images.dims[0].label = \"batch\"\n",
    "#     ds_images.dims[1].label = \"channel\"\n",
    "#     ds_images.dims[2].label = \"height\"\n",
    "#     ds_images.dims[3].label = \"width\"\n",
    "    \n",
    "    # write images to the hdf5\n",
    "    for i, filename in tqdm(enumerate(filenames),total=num):\n",
    "        raw_image = cv2.imread(os.path.join(path, filename), cv2.IMREAD_COLOR)  # BGR image\n",
    "        image = preprocess(raw_image, image_size)\n",
    "        ds_images[i] = image\n",
    "    \n",
    "    # creating dataset for labels\n",
    "    targets = np.array(labels, np.int32).reshape(num, 1)\n",
    "    ds_targets = hdf5.create_dataset(\"targets\", data=targets)\n",
    "    ds_targets.dims.label = (\"batch\",\"class_labels\")\n",
    "#     ds_targets.dims[0].label = \"batch\"\n",
    "#     ds_targets.dims[1].label = \"class_labels\"\n",
    "    \n",
    "    # specify the splits (labels 1~split for train, split~total for test)\n",
    "    test_head = labels.index(split)\n",
    "    split_train, split_test = (0, test_head), (test_head, num)\n",
    "    split_dict = dict(train=dict(images=split_train, targets=split_train),test=dict(images=split_test, targets=split_test))\n",
    "    hdf5.attrs[\"split\"] = H5PYDataset.create_split_array(split_dict)\n",
    "    hdf5.flush()\n",
    "    hdf5.close()"
   ]
  },
  {
   "cell_type": "code",
   "execution_count": null,
   "metadata": {},
   "outputs": [
    {
     "name": "stderr",
     "output_type": "stream",
     "text": [
      " 35%|███▍      | 2819/8144 [00:22<00:50, 105.21it/s]"
     ]
    }
   ],
   "source": [
    "imagefolderpath = \"data/cars_train\"\n",
    "labelpath = \"data/car_devkit/devkit/cars_train_annos.mat\"\n",
    "hdf5filepath = \"data/cars196.hdf5\"\n",
    "split = 99\n",
    "\n",
    "filenames,labels = assembleData(imagefolderpath,labelpath)\n",
    "hdf5Generator(imagefolderpath,filenames,labels,hdf5filepath,split)"
   ]
  },
  {
   "cell_type": "code",
   "execution_count": null,
   "metadata": {},
   "outputs": [],
   "source": []
  }
 ],
 "metadata": {
  "kernelspec": {
   "display_name": "Python 3",
   "language": "python",
   "name": "python3"
  },
  "language_info": {
   "codemirror_mode": {
    "name": "ipython",
    "version": 3
   },
   "file_extension": ".py",
   "mimetype": "text/x-python",
   "name": "python",
   "nbconvert_exporter": "python",
   "pygments_lexer": "ipython3",
   "version": "3.6.7"
  }
 },
 "nbformat": 4,
 "nbformat_minor": 2
}
