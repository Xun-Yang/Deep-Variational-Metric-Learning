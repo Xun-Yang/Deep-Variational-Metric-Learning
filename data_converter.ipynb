{
 "cells": [
  {
   "cell_type": "code",
   "execution_count": 90,
   "metadata": {},
   "outputs": [],
   "source": [
    "import os\n",
    "import numpy as np\n",
    "from scipy.io import loadmat\n",
    "import h5py\n",
    "from tqdm import tqdm\n",
    "import cv2\n",
    "from fuel.datasets.hdf5 import H5PYDataset"
   ]
  },
  {
   "cell_type": "code",
   "execution_count": 86,
   "metadata": {},
   "outputs": [],
   "source": [
    "def preprocess(hwc_bgr_image, size):\n",
    "    hwc_rgb_image = cv2.cvtColor(hwc_bgr_image, cv2.COLOR_BGR2RGB)\n",
    "    resized = cv2.resize(hwc_rgb_image, (size))\n",
    "    chw_image = np.transpose(resized, axes=(2, 0, 1))\n",
    "    return chw_image"
   ]
  },
  {
   "cell_type": "code",
   "execution_count": 75,
   "metadata": {},
   "outputs": [],
   "source": [
    "image_filepath = \"data/cars_train\"\n",
    "label_filepath = \"data/car_devkit/devkit/cars_train_annos.mat\"\n",
    "data_path = \"data/\""
   ]
  },
  {
   "cell_type": "code",
   "execution_count": 76,
   "metadata": {},
   "outputs": [],
   "source": [
    "jpg_filenames = (os.listdir(image_filepath))\n",
    "jpg_filenames.sort()\n",
    "num_examples = len(jpg_filenames)"
   ]
  },
  {
   "cell_type": "code",
   "execution_count": 77,
   "metadata": {},
   "outputs": [],
   "source": [
    "cars_annos = loadmat(label_filepath)\n",
    "annotations = cars_annos[\"annotations\"].ravel()\n",
    "annotations = sorted(annotations, key=lambda a: str(a[5][0]))"
   ]
  },
  {
   "cell_type": "code",
   "execution_count": 78,
   "metadata": {},
   "outputs": [],
   "source": [
    "class_labels = []\n",
    "for annotation in annotations:\n",
    "    class_label = int(annotation[4])\n",
    "    class_labels.append(class_label)"
   ]
  },
  {
   "cell_type": "code",
   "execution_count": 80,
   "metadata": {},
   "outputs": [],
   "source": [
    "hdf5_filename = \"cars196.hdf5\"\n",
    "hdf5_filepath = os.path.join(data_path, hdf5_filename)\n",
    "hdf5 = h5py.File(hdf5_filepath, mode=\"w\")"
   ]
  },
  {
   "cell_type": "code",
   "execution_count": 81,
   "metadata": {},
   "outputs": [],
   "source": [
    "# store images\n",
    "image_size = (256, 256)\n",
    "array_shape = (num_examples, 3) + image_size\n",
    "ds_images = hdf5.create_dataset(\"images\", array_shape, dtype=np.uint8)\n",
    "ds_images.dims[0].label = \"batch\"\n",
    "ds_images.dims[1].label = \"channel\"\n",
    "ds_images.dims[2].label = \"height\"\n",
    "ds_images.dims[3].label = \"width\""
   ]
  },
  {
   "cell_type": "code",
   "execution_count": 87,
   "metadata": {},
   "outputs": [
    {
     "name": "stderr",
     "output_type": "stream",
     "text": [
      "data/cars196.hdf5: 100%|██████████| 8144/8144 [02:15<00:00, 59.92it/s] \n"
     ]
    }
   ],
   "source": [
    "# write images to the disk\n",
    "for i, filename in tqdm(enumerate(jpg_filenames), total=num_examples, desc=hdf5_filepath):\n",
    "    raw_image = cv2.imread(os.path.join(image_filepath, filename), cv2.IMREAD_COLOR)  # BGR image\n",
    "    image = preprocess(raw_image, image_size)\n",
    "    ds_images[i] = image"
   ]
  },
  {
   "cell_type": "code",
   "execution_count": 88,
   "metadata": {},
   "outputs": [],
   "source": [
    "# store the targets (class labels)\n",
    "targets = np.array(class_labels, np.int32).reshape(num_examples, 1)\n",
    "ds_targets = hdf5.create_dataset(\"targets\", data=targets)\n",
    "ds_targets.dims[0].label = \"batch\"\n",
    "ds_targets.dims[1].label = \"class_labels\""
   ]
  },
  {
   "cell_type": "code",
   "execution_count": 91,
   "metadata": {},
   "outputs": [
    {
     "name": "stderr",
     "output_type": "stream",
     "text": [
      "/home/mayank/.virtualenvs/test/lib/python3.6/site-packages/fuel/datasets/hdf5.py:270: FutureWarning: Passing (type, 1) or '1type' as a synonym of type is deprecated; in a future version of numpy, it will be understood as (type, (1,)) / '(1,)type'.\n",
      "  ('comment', 'a', comment_len)]))\n"
     ]
    }
   ],
   "source": [
    "# specify the splits (labels 1~98 for train, 99~196 for test)\n",
    "test_head = class_labels.index(99)\n",
    "split_train, split_test = (0, test_head), (test_head, num_examples)\n",
    "split_dict = dict(train=dict(images=split_train, targets=split_train),test=dict(images=split_test, targets=split_test))\n",
    "hdf5.attrs[\"split\"] = H5PYDataset.create_split_array(split_dict)\n",
    "hdf5.flush()\n",
    "hdf5.close()  "
   ]
  }
 ],
 "metadata": {
  "kernelspec": {
   "display_name": "Python 3",
   "language": "python",
   "name": "python3"
  },
  "language_info": {
   "codemirror_mode": {
    "name": "ipython",
    "version": 3
   },
   "file_extension": ".py",
   "mimetype": "text/x-python",
   "name": "python",
   "nbconvert_exporter": "python",
   "pygments_lexer": "ipython3",
   "version": "3.6.7"
  }
 },
 "nbformat": 4,
 "nbformat_minor": 2
}
